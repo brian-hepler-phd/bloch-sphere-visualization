{
 "cells": [
  {
   "cell_type": "markdown",
   "id": "5de302b9-3ab6-48d5-b21c-a6e8ae5e6f98",
   "metadata": {},
   "source": [
    "![QF-logo](https://quantumformalism.academy/img/qf-up.png)"
   ]
  },
  {
   "cell_type": "markdown",
   "id": "8a10c1b2-41f0-401e-9736-e1b51c2286b2",
   "metadata": {
    "editable": false,
    "slideshow": {
     "slide_type": ""
    },
    "tags": []
   },
   "source": [
    "# Complex Matrix Lie Groups and the Matrix Logarithm\n",
    "### Interactive Exploration of Unitary Groups and Quantum Evolution\n",
    "This notebook supplements **Lecture 2: Complex Matrix Lie Groups**, where we introduced:\n",
    "\n",
    "- **Unitary and special unitary groups** $U(n)$ and $SU(n)$\n",
    "- The **matrix logarithm**, which serves as the inverse of the matrix exponential\n",
    "- The **role of unitary matrices in quantum mechanics**, particularly in quantum gates and time evolution\n",
    "\n",
    "### What You Will Learn\n",
    "- How to define and compute **unitary and special unitary matrices**\n",
    "- How to compute the **matrix logarithm** for matrices in $GL(n, \\mathbb{C})$\n",
    "- How unitary transformations govern **quantum state evolution**\n",
    "- How to **visualize quantum gates on the Bloch sphere**\n",
    "\n",
    "Use the interactive elements to see **how quantum gates evolve**, and explore how the matrix logarithm connects Lie groups and Lie algebras!"
   ]
  },
  {
   "cell_type": "markdown",
   "id": "a1d1c3b6-7f29-479c-97fa-858191c25435",
   "metadata": {
    "editable": false,
    "slideshow": {
     "slide_type": ""
    },
    "tags": []
   },
   "source": [
    "## The Unitary and Special Unitary Groups\n",
    "A **unitary matrix** $U \\in U(n)$ satisfies:\n",
    "\n",
    "$$\n",
    "U^\\dagger U = I_n\n",
    "$$\n",
    "\n",
    "where $U^\\dagger$ is the conjugate transpose, or adjoint, of $U$. These matrices **preserve the complex inner product**, meaning they describe transformations that **preserve quantum states** in quantum mechanics.\n",
    "\n",
    "A **special unitary matrix** $U \\in SU(n)$ is a unitary matrix with determinant 1:\n",
    "\n",
    "$$\n",
    "SU(n) = \\{ U \\in U(n) \\mid \\det(U) = 1 \\}.\n",
    "$$\n",
    "\n",
    "### Why This Matters\n",
    "- **Quantum Evolution**: Unitary matrices describe **how quantum states evolve** over time.\n",
    "- **Quantum Gates**: Common quantum gates (Pauli gates, Hadamard) belong to $U(2)$ and $SU(2)$.\n",
    "- **Lie Group Structure**: $U(n)$ and $SU(n)$ form **smooth manifolds**, making them key examples of **matrix Lie groups**.\n"
   ]
  },
  {
   "cell_type": "markdown",
   "id": "addfb509-2fcf-4cd4-91cf-b260e4f7a2e2",
   "metadata": {
    "editable": false,
    "slideshow": {
     "slide_type": ""
    },
    "tags": []
   },
   "source": [
    "## The Matrix Logarithm: Reversing the Matrix Exponential\n",
    "We previously defined the **matrix exponential** as:\n",
    "\n",
    "$$\n",
    "e^A = I + A + \\frac{A^2}{2!} + \\frac{A^3}{3!} + \\dots\n",
    "$$\n",
    "\n",
    "Now, we ask: **For which matrices does an inverse operation exist?** That is, when can we write:\n",
    "\n",
    "$$\n",
    "A = \\log(U) \\quad \\text{for some matrix } U?\n",
    "$$\n",
    "\n",
    "For **diagonalizable matrices**, the logarithm is computed element-wise:\n",
    "\n",
    "$$\n",
    "\\log(U) = P \\log(D) P^{-1}\n",
    "$$\n",
    "\n",
    "where $U = P D P^{-1}$ and $D$ is diagonal.\n",
    "\n",
    "### What We'll Compute\n",
    "- **The matrix logarithm of common unitary matrices**\n",
    "- **The principal branch** of $\\log(U)$, ensuring uniqueness\n",
    "- **The effect of taking the logarithm on quantum gates**\n",
    "\n",
    "Let's compute the matrix logarithm of some example unitary matrices."
   ]
  },
  {
   "cell_type": "code",
   "execution_count": 1,
   "id": "d69f06f1-7fb5-4005-8692-593fd1abf6cd",
   "metadata": {
    "editable": false,
    "slideshow": {
     "slide_type": ""
    },
    "tags": []
   },
   "outputs": [],
   "source": [
    "import numpy as np # For linear algebra\n",
    "import scipy\n",
    "import matplotlib.pyplot as plt # For visualizations\n",
    "from mpl_toolkits.mplot3d import Axes3D  # For 3D plotting\n",
    "import ipywidgets as widgets\n",
    "from IPython.display import display, clear_output\n",
    "from scipy.linalg import expm, logm # So you don't need to do this by hand!\n",
    "import ast  # For validating Python strings"
   ]
  },
  {
   "cell_type": "code",
   "execution_count": 2,
   "id": "cd1c4af4-6c12-41db-87fa-e29a7beadfda",
   "metadata": {
    "editable": false,
    "slideshow": {
     "slide_type": ""
    },
    "tags": []
   },
   "outputs": [
    {
     "name": "stdout",
     "output_type": "stream",
     "text": [
      "Pauli-X:\n",
      " [[0.+0.j 1.+0.j]\n",
      " [1.+0.j 0.+0.j]] \n",
      "Log(Pauli-X):\n",
      " [[-1.07899800e-15+1.57079633j -6.97358837e-16-1.57079633j]\n",
      " [-6.97358837e-16-1.57079633j -1.07899800e-15+1.57079633j]] \n",
      "\n",
      "Pauli-Y:\n",
      " [[ 0.+0.j -0.-1.j]\n",
      " [ 0.+1.j  0.+0.j]] \n",
      "Log(Pauli-Y):\n",
      " [[-1.03635967e-16-1.57079633e+00j  1.57079633e+00+1.89619853e-16j]\n",
      " [-1.57079633e+00-2.24129726e-16j -3.65491660e-16-1.57079633e+00j]] \n",
      "\n",
      "Pauli-Z:\n",
      " [[ 1.+0.j  0.+0.j]\n",
      " [ 0.+0.j -1.+0.j]] \n",
      "Log(Pauli-Z):\n",
      " [[ 0.00000000e+00+0.j          0.00000000e+00+0.j        ]\n",
      " [ 0.00000000e+00+0.j         -3.81639165e-16+3.14159265j]] \n",
      "\n",
      "Hadamard H:\n",
      " [[ 0.70710678+0.j  0.70710678+0.j]\n",
      " [ 0.70710678+0.j -0.70710678+0.j]] \n",
      "Log(Hadamard):\n",
      " [[-1.57210516e-15+0.46007559j -4.93107163e-16-1.11072073j]\n",
      " [-4.93107163e-16-1.11072073j -5.85890839e-16+2.68151706j]] \n",
      "\n"
     ]
    }
   ],
   "source": [
    "# Define the Pauli matrices\n",
    "X = np.array([[0, 1], \n",
    "              [1, 0]], dtype=complex)\n",
    "\n",
    "Y = np.array([[0, -1j], \n",
    "              [1j, 0]], dtype=complex)\n",
    "\n",
    "Z = np.array([[1, 0], \n",
    "              [0, -1]], dtype=complex)\n",
    "\n",
    "# Define the Hadamard gate\n",
    "H = (1/np.sqrt(2)) * np.array([[1, 1], \n",
    "                                [1, -1]], dtype=complex)\n",
    "\n",
    "# Compute the matrix logarithm\n",
    "log_X = scipy.linalg.logm(X)\n",
    "log_Y = scipy.linalg.logm(Y)\n",
    "log_Z = scipy.linalg.logm(Z)\n",
    "log_H = scipy.linalg.logm(H)\n",
    "\n",
    "# Print results\n",
    "print(\"Pauli-X:\\n\", X, \"\\nLog(Pauli-X):\\n\", log_X, \"\\n\")\n",
    "print(\"Pauli-Y:\\n\", Y, \"\\nLog(Pauli-Y):\\n\", log_Y, \"\\n\")\n",
    "print(\"Pauli-Z:\\n\", Z, \"\\nLog(Pauli-Z):\\n\", log_Z, \"\\n\")\n",
    "print(\"Hadamard H:\\n\", H, \"\\nLog(Hadamard):\\n\", log_H, \"\\n\")"
   ]
  },
  {
   "cell_type": "markdown",
   "id": "af9b58aa-efdd-4aad-9acb-af7f734de4fb",
   "metadata": {
    "editable": false,
    "slideshow": {
     "slide_type": ""
    },
    "tags": []
   },
   "source": [
    "## Visualizing One-Parameter Subgroups\n",
    "A key idea in Lie groups is that a matrix logarithm can generate a **continuous transformation**:\n",
    "\n",
    "$$\n",
    "G^t = e^{t \\log(G)}\n",
    "$$\n",
    "\n",
    "This defines a **one-parameter subgroup**, meaning that for any unitary matrix $G$, we can continuously interpolate:\n",
    "\n",
    "- $G^0 = I$ (identity matrix)\n",
    "- $G^1 = G$\n",
    "- $G^t$ for intermediate $t$ values\n",
    "\n",
    "### What This Plot Shows:\n",
    "- The **continuous evolution** of a quantum gate $G$ when exponentiated\n",
    "- How the matrix logarithm gives a natural **infinitesimal generator** of a transformation\n",
    "- A way to **smoothly transition between identity and a quantum gate**\n",
    "\n",
    "Try adjusting $t$ interactively to see how quantum gates evolve over time!"
   ]
  },
  {
   "cell_type": "markdown",
   "id": "55c9dfe5-c88f-44aa-b68d-8ae4b6cfd686",
   "metadata": {
    "editable": false,
    "slideshow": {
     "slide_type": ""
    },
    "tags": []
   },
   "source": [
    "## Quantum Gates and the Bloch Sphere Representation\n",
    "In quantum computing, unitary matrices define **quantum gates**, such as:\n",
    "\n",
    "- **Pauli Gates**: $X, Y, Z$\n",
    "- **Hadamard Gate**: $H$\n",
    "- **Controlled Gates**: $CNOT$, which entangle qubits\n",
    "\n",
    "### Why This Matters:\n",
    "- Quantum states are represented as **points on the Bloch sphere**.\n",
    "- Quantum gates **rotate and transform** states in **$SU(2)$**.\n",
    "- The **matrix logarithm** helps us understand **how these gates generate continuous transformations**.\n",
    "\n",
    "### What This Plot Shows:\n",
    "- The **action of quantum gates on the Bloch sphere**\n",
    "- How **unitary transformations rotate** quantum states\n",
    "- The **path followed by quantum states** under various gates\n",
    "\n",
    "Use the interactive sliders to explore how different gates **move quantum states** on the Bloch sphere!"
   ]
  },
  {
   "cell_type": "markdown",
   "id": "524bbc2f-12e9-403a-8ef4-4c4cfe2d9468",
   "metadata": {
    "editable": false,
    "slideshow": {
     "slide_type": ""
    },
    "tags": []
   },
   "source": [
    "## Parameterizing the Bloch Sphere\n",
    "\n",
    "The quantum mechanical system we're playing around with is the state space of a single qubit. A general state vector $|\\psi\\rangle$ in this Hilbert space has the form \n",
    "$$\n",
    "|\\psi \\rangle = \\alpha |0\\rangle + \\beta |1\\rangle\n",
    "$$\n",
    "where $\\alpha,\\beta \\in \\mathbb{C}$ satisfy the normalization condition $ \\langle \\psi | \\psi \\rangle = |\\alpha|^2 + |\\beta|^2 = 1$. In order to represent the state vector coordinates as a point on the Bloch sphere $(\\cong S^2)$, we make the following coordinate transformation:\n",
    "$$\n",
    "x = 2 \\mathrm{Re}(\\overline{\\alpha}\\beta), \\quad y = 2 \\mathrm{Im}(\\overline{\\alpha}\\beta), \\quad z = |\\alpha|^2-|\\beta|^2\n",
    "$$\n",
    "This gives a spherical coordinate-type parameterization of the sphere. "
   ]
  },
  {
   "cell_type": "code",
   "execution_count": 3,
   "id": "65c2974d-d27c-4c4c-aff4-8da50aca9e39",
   "metadata": {
    "editable": false,
    "slideshow": {
     "slide_type": ""
    },
    "tags": []
   },
   "outputs": [],
   "source": [
    "# Convert a qubit state |ψ⟩ = [α, β]ᵀ to Bloch sphere coordinates.\n",
    "def bloch_coords(state):\n",
    "    alpha, beta = state\n",
    "    x = 2 * np.real(np.conjugate(alpha) * beta)\n",
    "    y = 2 * np.imag(np.conjugate(alpha) * beta)\n",
    "    z = np.abs(alpha)**2 - np.abs(beta)**2\n",
    "    return x, y, z\n",
    "\n",
    "# Plot the Bloch sphere, the state vector, and optionally an orbit curve.\n",
    "def plot_bloch_sphere(state, orbit_points=None, ax=None, show=True):\n",
    "    if ax is None:\n",
    "        fig = plt.figure(figsize=(6,6))\n",
    "        ax = fig.add_subplot(111, projection='3d')\n",
    "    # Plot the sphere surface\n",
    "    u, v = np.mgrid[0:2*np.pi:100j, 0:np.pi:100j]\n",
    "    xs = np.cos(u) * np.sin(v)\n",
    "    ys = np.sin(u) * np.sin(v)\n",
    "    zs = np.cos(v)\n",
    "    ax.plot_surface(xs, ys, zs, color='c', alpha=0.1, linewidth=0)\n",
    "    \n",
    "    # Draw coordinate axes\n",
    "    ax.quiver(0, 0, 0, 1, 0, 0, color='r', arrow_length_ratio=0.08)\n",
    "    ax.quiver(0, 0, 0, 0, 1, 0, color='g', arrow_length_ratio=0.08)\n",
    "    ax.quiver(0, 0, 0, 0, 0, 1, color='b', arrow_length_ratio=0.08)\n",
    "    \n",
    "    # If an orbit is provided, plot it as a continuous curve.\n",
    "    if orbit_points is not None:\n",
    "        orbit_coords = np.array([bloch_coords(s) for s in orbit_points])\n",
    "        ax.plot(orbit_coords[:,0], orbit_coords[:,1], orbit_coords[:,2], \n",
    "                color='m', linewidth=2, label='Orbit')\n",
    "    \n",
    "    # Plot the current state vector as an arrow.\n",
    "    x, y, z = bloch_coords(state)\n",
    "    ax.quiver(0, 0, 0, x, y, z, color='k', linewidth=3, arrow_length_ratio=0.15)\n",
    "    \n",
    "    ax.set_xlim([-1,1]); ax.set_ylim([-1,1]); ax.set_zlim([-1,1])\n",
    "    ax.set_xlabel('X'); ax.set_ylabel('Y'); ax.set_zlabel('Z')\n",
    "    ax.view_init(30, 30)\n",
    "    if show:\n",
    "        plt.show()"
   ]
  },
  {
   "cell_type": "markdown",
   "id": "85c8b284-970b-4362-9b07-c27fd45f757c",
   "metadata": {
    "editable": false,
    "slideshow": {
     "slide_type": ""
    },
    "tags": []
   },
   "source": [
    "## Single Qubit Gates\n",
    "\n",
    "By default, you can play around with some fundamental quantum gates mentioned in the lecture: the **Pauli gates** (labeled $X,Y,Z$) and the **Hadamard gate** (labeled $H$).\n",
    "\n",
    "Geometrically, we can visualize these gates as acting by rotations and reflections of the Bloch sphere:\n",
    "* The **$X$ gate** flips bit states and has a matrix of $\\begin{pmatrix} 0 & 1 \\\\ 1 & 0\\end{pmatrix}$, representing a $\\pi$ rotation around the $x$-axis on the Bloch sphere.\n",
    "* The **$Y$ gate** combines a bit flip with a phase flip, represented by $\\begin{pmatrix}0 & -i \\\\ i & 0\\end{pmatrix}$, rotating by $\\pi$ around the $y$-axis.\n",
    "* The **$Z$ gate** flips the phase by multiplying $|1\\rangle$ by $-1$, represented by $\\begin{pmatrix} 1& 0 \\\\ 0 & -1\\end{pmatrix}$, rotating by $\\pi$ along the $z$-axis.\n",
    "* The **Hadamard gate** creates superpositions, represented by $\\frac{1}{\\sqrt{2}}\\begin{pmatrix}1&1 \\\\ 1&-1\\end{pmatrix}$, mapping $|0\\rangle$ and $|1\\rangle$ to equal superpositions.\n",
    "  \n"
   ]
  },
  {
   "cell_type": "markdown",
   "id": "77e31b11-130e-486f-abb8-5b017ffa8e18",
   "metadata": {
    "editable": false,
    "slideshow": {
     "slide_type": ""
    },
    "tags": []
   },
   "source": [
    "Additionally, you can select the \"Custom\" option from the Gate menu, and input your own quantum gate! It will only accept $2 \\times 2$ unitary matrices as input. Some common gates to try out are:\n",
    "* The **Phase gates** $S$ and $T$\n",
    "* The **Rotation gates** about various coordinate axes\n",
    "* **Square Root gates** of other gates. Can you define a gate $G$ satisfying $G^2 = X$? "
   ]
  },
  {
   "cell_type": "code",
   "execution_count": 4,
   "id": "42e75ec0-fcb6-4652-84cd-672ed1574e53",
   "metadata": {
    "editable": false,
    "slideshow": {
     "slide_type": ""
    },
    "tags": []
   },
   "outputs": [],
   "source": [
    "# Define basic gates\n",
    "def get_predefined_gate(gate_name):\n",
    "    if gate_name == 'I':\n",
    "        return np.eye(2, dtype=complex)\n",
    "    elif gate_name == 'X':\n",
    "        return X\n",
    "    elif gate_name == 'Y':\n",
    "        return Y\n",
    "    elif gate_name == 'Z':\n",
    "        return Z\n",
    "    elif gate_name == 'H':\n",
    "        return H\n",
    "    else:\n",
    "        return None\n",
    "\n",
    "def validate_unitary(U, tol=1e-6):\n",
    "    # Check that U†U is approximately the identity.\n",
    "    identity = np.eye(U.shape[0], dtype=complex)\n",
    "    return np.allclose(np.dot(U.conjugate().T, U), identity, atol=tol)\n",
    "\n",
    "# The get_gate function now handles both predefined and custom gates.\n",
    "def get_gate(gate_name, custom_gate_text=\"\"):\n",
    "    if gate_name != \"Custom\":\n",
    "        gate = get_predefined_gate(gate_name)\n",
    "        return gate\n",
    "    else:\n",
    "        try:\n",
    "            # Attempt to safely parse the custom gate from the input string.\n",
    "            gate_list = ast.literal_eval(custom_gate_text)\n",
    "            U = np.array(gate_list, dtype=complex)\n",
    "            if U.shape != (2, 2):\n",
    "                raise ValueError(\"The custom gate must be a 2x2 matrix.\")\n",
    "            if not validate_unitary(U):\n",
    "                raise ValueError(\"The input matrix is not unitary.\")\n",
    "            return U\n",
    "        except Exception as e:\n",
    "            raise ValueError(f\"Error parsing custom gate: {e}\")"
   ]
  },
  {
   "cell_type": "code",
   "execution_count": 5,
   "id": "232e6621-bfd7-4cd9-8315-98bf2ea512f5",
   "metadata": {
    "editable": false,
    "slideshow": {
     "slide_type": ""
    },
    "tags": []
   },
   "outputs": [
    {
     "data": {
      "application/vnd.jupyter.widget-view+json": {
       "model_id": "02616bcdd44948a192e5a6f156a19ee7",
       "version_major": 2,
       "version_minor": 0
      },
      "text/plain": [
       "interactive(children=(Dropdown(description='Gate:', options=('I', 'X', 'Y', 'Z', 'H', 'Custom'), style=Descrip…"
      ]
     },
     "metadata": {},
     "output_type": "display_data"
    }
   ],
   "source": [
    "# Initial state is |0⟩\n",
    "initial_state = np.array([1, 0], dtype=complex)\n",
    "\n",
    "def update_plot(gate_name, t, custom_gate_text):\n",
    "    clear_output(wait=True)\n",
    "    try:\n",
    "        gate = get_gate(gate_name, custom_gate_text)\n",
    "    except ValueError as e:\n",
    "        print(e)\n",
    "        return\n",
    "    \n",
    "    # Create a continuous evolution U(t) = exp(t * logm(gate))\n",
    "    U_t = expm(t * logm(gate))\n",
    "    current_state = U_t.dot(initial_state)\n",
    "    \n",
    "    # Compute orbit from t=0 to t=t\n",
    "    ts = np.linspace(0, t, 50)\n",
    "    orbit_points = [expm(s * logm(gate)).dot(initial_state) for s in ts]\n",
    "    \n",
    "    print(\"Gate:\", gate_name, \"t =\", t)\n",
    "    plot_bloch_sphere(current_state, orbit_points)\n",
    "\n",
    "# Widgets for gate selection and time evolution\n",
    "gate_selector = widgets.Dropdown(\n",
    "    options=['I', 'X', 'Y', 'Z', 'H', 'Custom'],\n",
    "    value='I',\n",
    "    description='Gate:',\n",
    "    style={'description_width': 'initial'}\n",
    ")\n",
    "\n",
    "\n",
    "time_slider = widgets.FloatSlider(\n",
    "    value=0,\n",
    "    min=0,\n",
    "    max=1,\n",
    "    step=0.01,\n",
    "    description='t:',\n",
    "    continuous_update=True,\n",
    "    style={'description_width': 'initial'}\n",
    ")\n",
    "\n",
    "custom_gate_input = widgets.Textarea(\n",
    "    value=\"[[0, 1], [1, 0]]\",\n",
    "    description='Custom Gate (2x2 matrix):',\n",
    "    layout=widgets.Layout(width='50%', height='80px'),\n",
    "    style={'description_width': 'initial'}\n",
    ")\n",
    "\n",
    "# Display custom_gate_input only when \"Custom\" is selected.\n",
    "def toggle_custom_input(change):\n",
    "    if change['new'] == \"Custom\":\n",
    "        custom_gate_input.layout.display = \"block\"\n",
    "    else:\n",
    "        custom_gate_input.layout.display = \"none\"\n",
    "\n",
    "gate_selector.observe(toggle_custom_input, names='value')\n",
    "toggle_custom_input({'new': gate_selector.value})  # Initialize display\n",
    "\n",
    "# Create the interactive widget\n",
    "widgets.interact(update_plot,\n",
    "                 gate_name=gate_selector,\n",
    "                 t=time_slider,\n",
    "                 custom_gate_text=custom_gate_input);"
   ]
  },
  {
   "cell_type": "markdown",
   "id": "d45a288d-fd65-45db-8aaa-db4a79447f35",
   "metadata": {
    "editable": false,
    "slideshow": {
     "slide_type": ""
    },
    "tags": []
   },
   "source": [
    "# Summary & Further Exploration\n",
    "In this notebook, we explored:\n",
    "\n",
    "**The structure of unitary and special unitary groups** $U(n)$ and $SU(n)$.  \n",
    "**The matrix logarithm** and how it connects Lie groups to Lie algebras.  \n",
    "**Numerical computation of matrix exponentials and logarithms**.  \n",
    "**The role of unitary matrices in quantum mechanics**, especially in **quantum state evolution**.  \n",
    "**Visualizations of quantum gates** and their action on the Bloch sphere.  \n",
    "\n",
    "### Next Steps:\n",
    "- **Try changing the input matrices.** How does $\\log(G)$ behave?\n",
    "- **Experiment with different one-parameter subgroups.** What happens for small vs. large $t$?\n",
    "- **Explore more quantum gates.** How does $e^{t \\log(G)}$ behave for a general unitary matrix $G$? Using the 'Custom' option in the drop-down menu, you can create your own quantum gate and visualize its action on the Bloch sphere.\n",
    "\n",
    "Understanding the **matrix logarithm** and **unitary transformations** is fundamental for **quantum computing, differential geometry, and representation theory**. Keep experimenting! "
   ]
  },
  {
   "cell_type": "markdown",
   "id": "da43da6c-3e37-4603-83e4-e1c948d99445",
   "metadata": {
    "editable": true,
    "slideshow": {
     "slide_type": ""
    },
    "tags": []
   },
   "source": [
    "![QF-Mission](https://quantumformalism.academy/img/qf-down.png)"
   ]
  },
  {
   "cell_type": "markdown",
   "id": "116f6f0c-001b-4dfb-b8a7-a9ff2aeee46c",
   "metadata": {
    "editable": false,
    "slideshow": {
     "slide_type": ""
    },
    "tags": []
   },
   "source": [
    "**Copyright © 2025 Quantum Formalism Academy. All rights reserved.**\n",
    "\n",
    "This notebook is a product of **Quantum Formalism Academy** and is intended for educational purposes. Redistribution, modification, or commercial use of this material without prior written permission from Quantum Formalism is prohibited."
   ]
  }
 ],
 "metadata": {
  "kernelspec": {
   "display_name": "Python 3 (ipykernel)",
   "language": "python",
   "name": "python3"
  },
  "language_info": {
   "codemirror_mode": {
    "name": "ipython",
    "version": 3
   },
   "file_extension": ".py",
   "mimetype": "text/x-python",
   "name": "python",
   "nbconvert_exporter": "python",
   "pygments_lexer": "ipython3",
   "version": "3.12.7"
  }
 },
 "nbformat": 4,
 "nbformat_minor": 5
}
